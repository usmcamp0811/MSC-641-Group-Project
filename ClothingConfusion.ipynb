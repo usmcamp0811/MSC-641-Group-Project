{
 "cells": [
  {
   "cell_type": "code",
   "execution_count": 1,
   "metadata": {
    "collapsed": true
   },
   "outputs": [],
   "source": [
    "import pandas as pd\n",
    "import numpy as np\n",
    "from sklearn.preprocessing import StandardScaler"
   ]
  },
  {
   "cell_type": "markdown",
   "metadata": {},
   "source": [
    "## Loading the data..."
   ]
  },
  {
   "cell_type": "code",
   "execution_count": 2,
   "metadata": {
    "collapsed": false
   },
   "outputs": [],
   "source": [
    "data = '/media/mcamp/LocalSSHD/PythonProjects/Datasets/MSC641_Datasets/Clothing_store_training_test.csv'\n",
    "df = pd.read_csv(data)"
   ]
  },
  {
   "cell_type": "code",
   "execution_count": 3,
   "metadata": {
    "collapsed": false,
    "scrolled": true
   },
   "outputs": [
    {
     "data": {
      "text/html": [
       "<div>\n",
       "<table border=\"1\" class=\"dataframe\">\n",
       "  <thead>\n",
       "    <tr style=\"text-align: right;\">\n",
       "      <th></th>\n",
       "      <th>HHKEY</th>\n",
       "      <th>ZIP_CODE</th>\n",
       "      <th>REC</th>\n",
       "      <th>FRE</th>\n",
       "      <th>MON</th>\n",
       "      <th>CC_CARD</th>\n",
       "      <th>AVRG</th>\n",
       "      <th>PC_CALC20</th>\n",
       "      <th>PSWEATERS</th>\n",
       "      <th>PKNIT_TOPS</th>\n",
       "      <th>...</th>\n",
       "      <th>ln lifetime ave time betw visits</th>\n",
       "      <th>ln product uniformity</th>\n",
       "      <th>sqrt responded</th>\n",
       "      <th>flag returns</th>\n",
       "      <th>flag response rate</th>\n",
       "      <th>flag markdown</th>\n",
       "      <th>sqrt spending months 2 3</th>\n",
       "      <th>sqrt spending months 4 5 6</th>\n",
       "      <th>flag spending months 4 5 6</th>\n",
       "      <th>flag spending months 2 3</th>\n",
       "    </tr>\n",
       "  </thead>\n",
       "  <tbody>\n",
       "    <tr>\n",
       "      <th>0</th>\n",
       "      <td>9.955600e+12</td>\n",
       "      <td>1001</td>\n",
       "      <td>208</td>\n",
       "      <td>2</td>\n",
       "      <td>368.46</td>\n",
       "      <td>0</td>\n",
       "      <td>184.23</td>\n",
       "      <td>11</td>\n",
       "      <td>0.18</td>\n",
       "      <td>0.00</td>\n",
       "      <td>...</td>\n",
       "      <td>4.709530</td>\n",
       "      <td>3.459781</td>\n",
       "      <td>0.000000</td>\n",
       "      <td>F</td>\n",
       "      <td>F</td>\n",
       "      <td>T</td>\n",
       "      <td>0.000000</td>\n",
       "      <td>0.000000</td>\n",
       "      <td>F</td>\n",
       "      <td>F</td>\n",
       "    </tr>\n",
       "    <tr>\n",
       "      <th>1</th>\n",
       "      <td>9.955600e+12</td>\n",
       "      <td>1028</td>\n",
       "      <td>6</td>\n",
       "      <td>4</td>\n",
       "      <td>258.00</td>\n",
       "      <td>1</td>\n",
       "      <td>64.50</td>\n",
       "      <td>11</td>\n",
       "      <td>0.26</td>\n",
       "      <td>0.16</td>\n",
       "      <td>...</td>\n",
       "      <td>3.772761</td>\n",
       "      <td>3.487987</td>\n",
       "      <td>1.414214</td>\n",
       "      <td>T</td>\n",
       "      <td>T</td>\n",
       "      <td>T</td>\n",
       "      <td>9.055937</td>\n",
       "      <td>10.954451</td>\n",
       "      <td>T</td>\n",
       "      <td>T</td>\n",
       "    </tr>\n",
       "    <tr>\n",
       "      <th>2</th>\n",
       "      <td>9.955600e+12</td>\n",
       "      <td>1056</td>\n",
       "      <td>327</td>\n",
       "      <td>2</td>\n",
       "      <td>77.00</td>\n",
       "      <td>0</td>\n",
       "      <td>38.50</td>\n",
       "      <td>11</td>\n",
       "      <td>1.00</td>\n",
       "      <td>0.00</td>\n",
       "      <td>...</td>\n",
       "      <td>4.228293</td>\n",
       "      <td>4.605170</td>\n",
       "      <td>0.000000</td>\n",
       "      <td>F</td>\n",
       "      <td>F</td>\n",
       "      <td>T</td>\n",
       "      <td>0.000000</td>\n",
       "      <td>0.000000</td>\n",
       "      <td>F</td>\n",
       "      <td>F</td>\n",
       "    </tr>\n",
       "    <tr>\n",
       "      <th>3</th>\n",
       "      <td>9.955600e+12</td>\n",
       "      <td>1118</td>\n",
       "      <td>66</td>\n",
       "      <td>8</td>\n",
       "      <td>846.06</td>\n",
       "      <td>1</td>\n",
       "      <td>105.75</td>\n",
       "      <td>11</td>\n",
       "      <td>0.38</td>\n",
       "      <td>0.00</td>\n",
       "      <td>...</td>\n",
       "      <td>3.294354</td>\n",
       "      <td>3.147165</td>\n",
       "      <td>2.449490</td>\n",
       "      <td>F</td>\n",
       "      <td>T</td>\n",
       "      <td>T</td>\n",
       "      <td>10.244023</td>\n",
       "      <td>16.399085</td>\n",
       "      <td>T</td>\n",
       "      <td>T</td>\n",
       "    </tr>\n",
       "    <tr>\n",
       "      <th>4</th>\n",
       "      <td>9.955600e+12</td>\n",
       "      <td>1107</td>\n",
       "      <td>49</td>\n",
       "      <td>1</td>\n",
       "      <td>87.44</td>\n",
       "      <td>0</td>\n",
       "      <td>87.44</td>\n",
       "      <td>11</td>\n",
       "      <td>0.20</td>\n",
       "      <td>0.20</td>\n",
       "      <td>...</td>\n",
       "      <td>3.198673</td>\n",
       "      <td>3.350606</td>\n",
       "      <td>0.000000</td>\n",
       "      <td>F</td>\n",
       "      <td>F</td>\n",
       "      <td>T</td>\n",
       "      <td>9.350936</td>\n",
       "      <td>0.000000</td>\n",
       "      <td>F</td>\n",
       "      <td>T</td>\n",
       "    </tr>\n",
       "  </tbody>\n",
       "</table>\n",
       "<p>5 rows × 119 columns</p>\n",
       "</div>"
      ],
      "text/plain": [
       "          HHKEY  ZIP_CODE  REC  FRE     MON  CC_CARD    AVRG  PC_CALC20  \\\n",
       "0  9.955600e+12      1001  208    2  368.46        0  184.23         11   \n",
       "1  9.955600e+12      1028    6    4  258.00        1   64.50         11   \n",
       "2  9.955600e+12      1056  327    2   77.00        0   38.50         11   \n",
       "3  9.955600e+12      1118   66    8  846.06        1  105.75         11   \n",
       "4  9.955600e+12      1107   49    1   87.44        0   87.44         11   \n",
       "\n",
       "   PSWEATERS  PKNIT_TOPS            ...             \\\n",
       "0       0.18        0.00            ...              \n",
       "1       0.26        0.16            ...              \n",
       "2       1.00        0.00            ...              \n",
       "3       0.38        0.00            ...              \n",
       "4       0.20        0.20            ...              \n",
       "\n",
       "   ln lifetime ave time betw visits  ln product uniformity  sqrt responded  \\\n",
       "0                          4.709530               3.459781        0.000000   \n",
       "1                          3.772761               3.487987        1.414214   \n",
       "2                          4.228293               4.605170        0.000000   \n",
       "3                          3.294354               3.147165        2.449490   \n",
       "4                          3.198673               3.350606        0.000000   \n",
       "\n",
       "   flag returns  flag response rate  flag markdown  sqrt spending months 2 3  \\\n",
       "0             F                   F              T                  0.000000   \n",
       "1             T                   T              T                  9.055937   \n",
       "2             F                   F              T                  0.000000   \n",
       "3             F                   T              T                 10.244023   \n",
       "4             F                   F              T                  9.350936   \n",
       "\n",
       "   sqrt spending months 4 5 6  flag spending months 4 5 6  \\\n",
       "0                    0.000000                           F   \n",
       "1                   10.954451                           T   \n",
       "2                    0.000000                           F   \n",
       "3                   16.399085                           T   \n",
       "4                    0.000000                           F   \n",
       "\n",
       "   flag spending months 2 3  \n",
       "0                         F  \n",
       "1                         T  \n",
       "2                         F  \n",
       "3                         T  \n",
       "4                         T  \n",
       "\n",
       "[5 rows x 119 columns]"
      ]
     },
     "execution_count": 3,
     "metadata": {},
     "output_type": "execute_result"
    }
   ],
   "source": [
    "df.head()"
   ]
  },
  {
   "cell_type": "markdown",
   "metadata": {},
   "source": [
    "In another notebook I ran a correlation test and decided that these would be the variables to use for any model because they were least correlated with one another."
   ]
  },
  {
   "cell_type": "code",
   "execution_count": 4,
   "metadata": {
    "collapsed": false
   },
   "outputs": [],
   "source": [
    "vars = ['CLUSTYPE', 'WEB', 'AXSPEND', 'AMSPEND','HHKEY',\n",
    "'ZIP_CODE',\n",
    "'REC',\n",
    "'FRE',\n",
    "'MON',\n",
    "'CC_CARD',\n",
    "'AVRG',\n",
    "'PC_CALC20',\n",
    "'PSWEATERS',\n",
    "'PKNIT_TOPS',\n",
    "'PKNIT_DRES',\n",
    "'PBLOUSES',\n",
    "'PJACKETS',\n",
    "'PCAR_PNTS',\n",
    "'PCAS_PNTS',\n",
    "'PSHIRTS',\n",
    "'PDRESSES',\n",
    "'PSUITS',\n",
    "'POUTERWEAR',\n",
    "'PJEWELRY',\n",
    "'PFASHION',\n",
    "'PLEGWEAR',\n",
    "'sqrt sweaters',\n",
    "'sqrt knit tops',\n",
    "'sqrt knit dresses',\n",
    "'sqrt blouses',\n",
    "'sqrt jackets',\n",
    "'sqrt career pants',\n",
    "'sqrt casual pants',\n",
    "'sqrt shirts',\n",
    "'sqrt dresses',\n",
    "'sqrt suits',\n",
    "'sqrt outerwear',\n",
    "'sqrt jewelry',\n",
    "'sqrt fashion',\n",
    "'sqrt legwear',\n",
    "'sqrt collectibles',\n",
    "'flag sweaters',\n",
    "'flag knit tops',\n",
    "'flag knit dresses',\n",
    "'flag blouses',\n",
    "'flag jackets',\n",
    "'flag career pants',\n",
    "'flag casual pants',\n",
    "'flag shirts',\n",
    "'flag dresses',\n",
    "'flag suits',\n",
    "'flag outerwear',\n",
    "'flag jewelry',\n",
    "'flag fashion',\n",
    "'flag legwear',\n",
    "'flag collectibles',\n",
    "'sqrt spending AM']"
   ]
  },
  {
   "cell_type": "markdown",
   "metadata": {},
   "source": [
    "Making a list for calling our independent and dependent variables"
   ]
  },
  {
   "cell_type": "code",
   "execution_count": 5,
   "metadata": {
    "collapsed": false
   },
   "outputs": [],
   "source": [
    "y_cols = 'RESP'\n",
    "x_cols = vars\n",
    "# x_cols.remove(y_cols)"
   ]
  },
  {
   "cell_type": "code",
   "execution_count": 6,
   "metadata": {
    "collapsed": false
   },
   "outputs": [],
   "source": [
    "dfdtype = pd.DataFrame(df.dtypes)\n",
    "flag_cols = list(dfdtype[dfdtype.iloc[:,0] == 'object'].index)"
   ]
  },
  {
   "cell_type": "markdown",
   "metadata": {},
   "source": [
    "Replace string values with integer values for our model."
   ]
  },
  {
   "cell_type": "code",
   "execution_count": 7,
   "metadata": {
    "collapsed": false
   },
   "outputs": [],
   "source": [
    "df = df.replace(['Y', 'N'], [1, 0])\n",
    "df = df.replace(['T', 'F'], [1, 0])"
   ]
  },
  {
   "cell_type": "markdown",
   "metadata": {},
   "source": [
    "Check the number percentage of positive repsonses in the data. We see the majority of the responses are negative. We will need to take this into account when making our model(s)."
   ]
  },
  {
   "cell_type": "code",
   "execution_count": 8,
   "metadata": {
    "collapsed": false
   },
   "outputs": [
    {
     "data": {
      "text/plain": [
       "0    24037\n",
       "1     4762\n",
       "Name: RESP, dtype: int64"
      ]
     },
     "execution_count": 8,
     "metadata": {},
     "output_type": "execute_result"
    }
   ],
   "source": [
    "df['RESP'].value_counts()"
   ]
  },
  {
   "cell_type": "code",
   "execution_count": 9,
   "metadata": {
    "collapsed": false
   },
   "outputs": [
    {
     "data": {
      "text/plain": [
       "0.19811124516370596"
      ]
     },
     "execution_count": 9,
     "metadata": {},
     "output_type": "execute_result"
    }
   ],
   "source": [
    "4762/24037"
   ]
  },
  {
   "cell_type": "code",
   "execution_count": 10,
   "metadata": {
    "collapsed": false
   },
   "outputs": [],
   "source": [
    "df.to_csv('clothing_store_encoded_flags.csv') #saving the data off so that we don't have to reconvert the variables"
   ]
  },
  {
   "cell_type": "markdown",
   "metadata": {},
   "source": [
    "Sub sampling the negative responses so that we make a balanced training dataset."
   ]
  },
  {
   "cell_type": "code",
   "execution_count": 11,
   "metadata": {
    "collapsed": false
   },
   "outputs": [
    {
     "data": {
      "text/plain": [
       "1    4762\n",
       "0    4762\n",
       "Name: RESP, dtype: int64"
      ]
     },
     "execution_count": 11,
     "metadata": {},
     "output_type": "execute_result"
    }
   ],
   "source": [
    "zerodf = df[df[y_cols] == 0].sample(4762)\n",
    "onedf = df[df[y_cols] == 1]\n",
    "\n",
    "newdf = pd.concat([zerodf, onedf], axis=0)\n",
    "newdf[y_cols].value_counts()"
   ]
  },
  {
   "cell_type": "code",
   "execution_count": 12,
   "metadata": {
    "collapsed": false
   },
   "outputs": [
    {
     "data": {
      "text/plain": [
       "0    24037\n",
       "1     4762\n",
       "Name: RESP, dtype: int64"
      ]
     },
     "execution_count": 12,
     "metadata": {},
     "output_type": "execute_result"
    }
   ],
   "source": [
    "df[y_cols].value_counts()"
   ]
  },
  {
   "cell_type": "code",
   "execution_count": 13,
   "metadata": {
    "collapsed": false
   },
   "outputs": [
    {
     "data": {
      "text/plain": [
       "1    4762\n",
       "0    4762\n",
       "Name: RESP, dtype: int64"
      ]
     },
     "execution_count": 13,
     "metadata": {},
     "output_type": "execute_result"
    }
   ],
   "source": [
    "newdf[y_cols].value_counts()"
   ]
  },
  {
   "cell_type": "code",
   "execution_count": 14,
   "metadata": {
    "collapsed": true
   },
   "outputs": [],
   "source": [
    "from sklearn.ensemble import RandomForestClassifier\n",
    "from sklearn.model_selection import train_test_split\n",
    "from sklearn.metrics import accuracy_score\n",
    "from sklearn.linear_model import LogisticRegression\n",
    "from sklearn.svm import SVC\n",
    "from sklearn import neighbors\n",
    "newdf = newdf.dropna()"
   ]
  },
  {
   "cell_type": "code",
   "execution_count": 17,
   "metadata": {
    "collapsed": false
   },
   "outputs": [],
   "source": [
    "# Helper functions to calculate the performance of our models.\n",
    "import itertools\n",
    "import numpy as np\n",
    "import matplotlib.pyplot as plt\n",
    "\n",
    "from sklearn import svm, datasets\n",
    "from sklearn.model_selection import train_test_split\n",
    "from sklearn.metrics import confusion_matrix\n",
    "\n",
    "\n",
    "def plot_confusion_matrix(cm, classes,\n",
    "                          normalize=False,\n",
    "                          title='Confusion matrix',\n",
    "                          cmap=plt.cm.Blues):\n",
    "    \"\"\"\n",
    "    This function prints and plots the confusion matrix.\n",
    "    Normalization can be applied by setting `normalize=True`.\n",
    "    \"\"\"\n",
    "    np.set_printoptions(precision=2)\n",
    "    plt.figure()\n",
    "    plt.imshow(cm, interpolation='nearest', cmap=cmap)\n",
    "    plt.title(title)\n",
    "    plt.colorbar()\n",
    "    tick_marks = np.arange(len(classes))\n",
    "    plt.xticks(tick_marks, classes, rotation=45)\n",
    "    plt.yticks(tick_marks, classes)\n",
    "\n",
    "    if normalize:\n",
    "        cm = cm.astype('float') / cm.sum(axis=1)[:, np.newaxis]\n",
    "#         print(\"Normalized confusion matrix\")\n",
    "#     else:\n",
    "#         print('Confusion matrix, without normalization')\n",
    "\n",
    "#     print(cm)\n",
    "\n",
    "    thresh = cm.max() / 2.\n",
    "    for i, j in itertools.product(range(cm.shape[0]), range(cm.shape[1])):\n",
    "        plt.text(j, i, cm[i, j],\n",
    "                 horizontalalignment=\"center\",\n",
    "                 color=\"white\" if cm[i, j] > thresh else \"black\")\n",
    "\n",
    "    plt.tight_layout()\n",
    "    plt.ylabel('True label')\n",
    "    plt.xlabel('Predicted label')\n",
    "    plt.show()\n",
    "    \n",
    "def overall_error_rate(y_pred, y_test):\n",
    "    cnf_matrix = confusion_matrix(y_test, y_pred)\n",
    "    fn = cnf_matrix[1,0]\n",
    "    fp = cnf_matrix[0,1]\n",
    "    tn = cnf_matrix[0,0]\n",
    "    tp = cnf_matrix[1,1]\n",
    "    n = len(y_test)\n",
    "    return (fn+fp)/n\n",
    "\n",
    "def sensitivity(y_pred, y_test):\n",
    "    cnf_matrix = confusion_matrix(y_test, y_pred)\n",
    "    tap = pd.DataFrame(y_test).iloc[:,0].value_counts()[1]\n",
    "    tp = cnf_matrix[1,1]\n",
    "    return tp/tap\n",
    "\n",
    "def false_pos_rate(y_pred, y_test):\n",
    "    cnf_matrix = confusion_matrix(y_test, y_pred)\n",
    "    fp = cnf_matrix[0,1]\n",
    "    tan = pd.DataFrame(y_test).iloc[:,0].value_counts()[0]\n",
    "    return fp/tan\n",
    "\n",
    "def specificity(y_pred, y_test):\n",
    "    cnf_matrix = confusion_matrix(y_test, y_pred)\n",
    "    tn = cnf_matrix[0,0]\n",
    "    tan = pd.DataFrame(y_test).iloc[:,0].value_counts()[0]\n",
    "    return tn/tan\n",
    "\n",
    "def false_neg_rate(y_pred, y_test):\n",
    "    cnf_matrix = confusion_matrix(y_test, y_pred)\n",
    "    fn = cnf_matrix[1,0]\n",
    "    tap = pd.DataFrame(y_test).iloc[:,0].value_counts()[1]\n",
    "    return fn/tap\n",
    "\n",
    "def prop_true_pos(y_pred, y_test):\n",
    "    cnf_matrix = confusion_matrix(y_test, y_pred)\n",
    "    try:\n",
    "        tpp = pd.DataFrame(y_pred).iloc[:,0].value_counts()[1]\n",
    "    except:\n",
    "        return 0\n",
    "    tp = cnf_matrix[1,1]\n",
    "    return tp/tpp\n",
    "\n",
    "def prop_true_neg(y_pred, y_test):\n",
    "    cnf_matrix = confusion_matrix(y_test, y_pred)\n",
    "    try:\n",
    "        tn = cnf_matrix[0,0]\n",
    "        tpn = pd.DataFrame(y_pred).iloc[:,0].value_counts()[0]\n",
    "    except:\n",
    "        return 0\n",
    "    return tn/tpn\n",
    "\n",
    "def get_descriptive_data(y_pred, y_test):\n",
    "    print(\"Accuracy: %f%%\" %(round(accuracy_score(y_test, y_pred)*100,2)))\n",
    "    print(\"Overall Error Rate: %f%%\" %(round(overall_error_rate(y_pred, y_test)*100,2)))\n",
    "    print('False Positive Rate: %f%%' %(round(false_pos_rate(y_pred, y_test)*100,2)))\n",
    "    print('False Negative Rate: %f%%' %(round(false_neg_rate(y_pred, y_test)*100,2)))\n",
    "    print('Specificity: %f%%' %(round(specificity(y_pred, y_test)*100,2)))\n",
    "    print(\"Sensitivity: %f%%\" %(round(sensitivity(y_pred, y_test)*100,2)))\n",
    "    print('Proportion True Positive: %f%%' %(round(prop_true_pos(y_pred, y_test)*100,2)))\n",
    "    print('Proportion True Negative: %f%%' %(round(prop_true_neg(y_pred, y_test)*100,2)))"
   ]
  },
  {
   "cell_type": "markdown",
   "metadata": {},
   "source": [
    "# Classifiers"
   ]
  },
  {
   "cell_type": "code",
   "execution_count": 34,
   "metadata": {
    "collapsed": false
   },
   "outputs": [
    {
     "name": "stdout",
     "output_type": "stream",
     "text": [
      "Accuracy: 67.800000%\n",
      "Overall Error Rate: 32.200000%\n",
      "False Positive Rate: 24.520000%\n",
      "False Negative Rate: 40.480000%\n",
      "Specificity: 75.480000%\n",
      "Sensitivity: 59.520000%\n",
      "Proportion True Positive: 69.230000%\n",
      "Proportion True Negative: 66.790000%\n"
     ]
    },
    {
     "data": {
      "image/png": "[encoded data removed]",
      "text/plain": [
       "<matplotlib.figure.Figure at 0x7fb6c35819b0>"
      ]
     },
     "metadata": {},
     "output_type": "display_data"
    }
   ],
   "source": [
    "# Random Forrest\n",
    "X_train, X_test, y_train, y_test = train_test_split(newdf[x_cols], newdf[y_cols], test_size=0.33, random_state=42)\n",
    "rf = RandomForestClassifier(random_state=1)\n",
    "rf.fit(X_train, y_train)\n",
    "y_pred = rf.predict(X_test)\n",
    "get_descriptive_data(y_pred, y_test)\n",
    "y_pred = pd.Series(y_pred).replace([0,1], ['N','Y'])\n",
    "y_test = pd.Series(y_test).replace([0,1], ['N','Y'])\n",
    "class_names = list(y_pred.value_counts().index)\n",
    "cnf_matrix = confusion_matrix(y_test, y_pred)\n",
    "plot_confusion_matrix(cnf_matrix, classes=class_names,\n",
    "                      title='Confusion matrix, without normalization')"
   ]
  },
  {
   "cell_type": "code",
   "execution_count": 35,
   "metadata": {
    "collapsed": false
   },
   "outputs": [
    {
     "name": "stdout",
     "output_type": "stream",
     "text": [
      "Accuracy: 51.890000%\n",
      "Overall Error Rate: 48.110000%\n",
      "False Positive Rate: 0.000000%\n",
      "False Negative Rate: 100.000000%\n",
      "Specificity: 100.000000%\n",
      "Sensitivity: 0.000000%\n",
      "Proportion True Positive: 0.000000%\n",
      "Proportion True Negative: 51.890000%\n"
     ]
    },
    {
     "data": {
      "image/png": "[encoded data removed]",
      "text/plain": [
       "<matplotlib.figure.Figure at 0x7fb6c269e358>"
      ]
     },
     "metadata": {},
     "output_type": "display_data"
    }
   ],
   "source": [
    "# Logistic Regression\n",
    "X_train, X_test, y_train, y_test = train_test_split(newdf[x_cols], newdf[y_cols], test_size=0.33, random_state=42)\n",
    "lr = LogisticRegression(random_state=1)\n",
    "lr.fit(X_train, y_train)\n",
    "y_pred = lr.predict(X_test)\n",
    "get_descriptive_data(y_pred, y_test)\n",
    "y_pred = pd.Series(y_pred).replace([0,1], ['N','Y'])\n",
    "y_test = pd.Series(y_test).replace([0,1], ['N','Y'])\n",
    "class_names = list(y_pred.value_counts().index)\n",
    "cnf_matrix = confusion_matrix(y_test, y_pred)\n",
    "plot_confusion_matrix(cnf_matrix, classes=class_names,\n",
    "                      title='Confusion matrix, without normalization')"
   ]
  },
  {
   "cell_type": "code",
   "execution_count": 39,
   "metadata": {
    "collapsed": false
   },
   "outputs": [
    {
     "name": "stdout",
     "output_type": "stream",
     "text": [
      "Accuracy: 51.890000%\n",
      "Overall Error Rate: 48.110000%\n",
      "False Positive Rate: 0.000000%\n",
      "False Negative Rate: 100.000000%\n",
      "Specificity: 100.000000%\n",
      "Sensitivity: 0.000000%\n",
      "Proportion True Positive: 0.000000%\n",
      "Proportion True Negative: 51.890000%\n"
     ]
    },
    {
     "data": {
      "image/png": "[encoded data removed]",
      "text/plain": [
       "<matplotlib.figure.Figure at 0x7fb6c26dd908>"
      ]
     },
     "metadata": {},
     "output_type": "display_data"
    }
   ],
   "source": [
    "# Support Vector Machine\n",
    "X_train, X_test, y_train, y_test = train_test_split(newdf[x_cols], newdf[y_cols], test_size=0.33, random_state=42)\n",
    "svm = SVC(random_state=1)\n",
    "svm.fit(X_train, y_train)\n",
    "y_pred_svm = svm.predict(X_test)\n",
    "y_pred = pd.Series(y_pred).replace([0,1], ['N','Y'])\n",
    "y_test = pd.Series(y_test).replace([0,1], ['N','Y'])\n",
    "class_names = list(y_pred.value_counts().index)\n",
    "get_descriptive_data(y_pred, y_test)\n",
    "cnf_matrix = confusion_matrix(y_test, y_pred)\n",
    "plot_confusion_matrix(cnf_matrix, classes=class_names,\n",
    "                      title='Confusion matrix, without normalization')"
   ]
  },
  {
   "cell_type": "code",
   "execution_count": 40,
   "metadata": {
    "collapsed": false
   },
   "outputs": [
    {
     "name": "stdout",
     "output_type": "stream",
     "text": [
      "Accuracy: 64.690000%\n",
      "Overall Error Rate: 35.310000%\n",
      "False Positive Rate: 32.430000%\n",
      "False Negative Rate: 38.430000%\n",
      "Specificity: 67.570000%\n",
      "Sensitivity: 61.570000%\n",
      "Proportion True Positive: 63.770000%\n",
      "Proportion True Negative: 65.480000%\n"
     ]
    },
    {
     "data": {
      "image/png": "[encoded data removed]",
      "text/plain": [
       "<matplotlib.figure.Figure at 0x7fb6c269d438>"
      ]
     },
     "metadata": {},
     "output_type": "display_data"
    }
   ],
   "source": [
    "# K-Nearest Neighbors\n",
    "X_train, X_test, y_train, y_test = train_test_split(newdf[x_cols], newdf[y_cols], test_size=0.33, random_state=42)\n",
    "knn = neighbors.KNeighborsClassifier()\n",
    "knn.fit(X_train, y_train)\n",
    "y_pred = knn.predict(X_test)\n",
    "y_pred = pd.Series(y_pred).replace([0,1], ['N','Y'])\n",
    "y_test = pd.Series(y_test).replace([0,1], ['N','Y'])\n",
    "class_names = list(y_pred.value_counts().index)\n",
    "get_descriptive_data(y_pred, y_test)\n",
    "cnf_matrix = confusion_matrix(y_test, y_pred)\n",
    "plot_confusion_matrix(cnf_matrix, classes=class_names,\n",
    "                      title='Confusion matrix, without normalization')"
   ]
  },
  {
   "cell_type": "code",
   "execution_count": null,
   "metadata": {
    "collapsed": true
   },
   "outputs": [],
   "source": []
  }
 ],
 "metadata": {
  "anaconda-cloud": {},
  "kernelspec": {
   "display_name": "Python [conda env:py3.6]",
   "language": "python",
   "name": "conda-env-py3.6-py"
  },
  "language_info": {
   "codemirror_mode": {
    "name": "ipython",
    "version": 3
   },
   "file_extension": ".py",
   "mimetype": "text/x-python",
   "name": "python",
   "nbconvert_exporter": "python",
   "pygments_lexer": "ipython3",
   "version": "3.6.0"
  }
 },
 "nbformat": 4,
 "nbformat_minor": 0
}
