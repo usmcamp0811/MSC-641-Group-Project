{
 "cells": [
  {
   "cell_type": "code",
   "execution_count": 1,
   "metadata": {},
   "outputs": [],
   "source": [
    "import pandas as pd\n",
    "import numpy as np\n",
    "from sklearn.preprocessing import StandardScaler\n",
    "from sklearn.metrics import roc_curve, auc"
   ]
  },
  {
   "cell_type": "markdown",
   "metadata": {},
   "source": [
    "## Loading the data..."
   ]
  },
  {
   "cell_type": "code",
   "execution_count": 2,
   "metadata": {
    "collapsed": true
   },
   "outputs": [],
   "source": [
    "data = '/media/mcamp/LocalSSHD/PythonProjects/Datasets/MSC641_Datasets/Clothing_store_training_test.csv'\n",
    "df = pd.read_csv(data)"
   ]
  },
  {
   "cell_type": "code",
   "execution_count": 3,
   "metadata": {
    "scrolled": true
   },
   "outputs": [
    {
     "data": {
      "text/html": [
       "<div>\n",
       "<table border=\"1\" class=\"dataframe\">\n",
       "  <thead>\n",
       "    <tr style=\"text-align: right;\">\n",
       "      <th></th>\n",
       "      <th>HHKEY</th>\n",
       "      <th>ZIP_CODE</th>\n",
       "      <th>REC</th>\n",
       "      <th>FRE</th>\n",
       "      <th>MON</th>\n",
       "      <th>CC_CARD</th>\n",
       "      <th>AVRG</th>\n",
       "      <th>PC_CALC20</th>\n",
       "      <th>PSWEATERS</th>\n",
       "      <th>PKNIT_TOPS</th>\n",
       "      <th>...</th>\n",
       "      <th>ln lifetime ave time betw visits</th>\n",
       "      <th>ln product uniformity</th>\n",
       "      <th>sqrt responded</th>\n",
       "      <th>flag returns</th>\n",
       "      <th>flag response rate</th>\n",
       "      <th>flag markdown</th>\n",
       "      <th>sqrt spending months 2 3</th>\n",
       "      <th>sqrt spending months 4 5 6</th>\n",
       "      <th>flag spending months 4 5 6</th>\n",
       "      <th>flag spending months 2 3</th>\n",
       "    </tr>\n",
       "  </thead>\n",
       "  <tbody>\n",
       "    <tr>\n",
       "      <th>0</th>\n",
       "      <td>9.955600e+12</td>\n",
       "      <td>1001</td>\n",
       "      <td>208</td>\n",
       "      <td>2</td>\n",
       "      <td>368.46</td>\n",
       "      <td>0</td>\n",
       "      <td>184.23</td>\n",
       "      <td>11</td>\n",
       "      <td>0.18</td>\n",
       "      <td>0.00</td>\n",
       "      <td>...</td>\n",
       "      <td>4.709530</td>\n",
       "      <td>3.459781</td>\n",
       "      <td>0.000000</td>\n",
       "      <td>F</td>\n",
       "      <td>F</td>\n",
       "      <td>T</td>\n",
       "      <td>0.000000</td>\n",
       "      <td>0.000000</td>\n",
       "      <td>F</td>\n",
       "      <td>F</td>\n",
       "    </tr>\n",
       "    <tr>\n",
       "      <th>1</th>\n",
       "      <td>9.955600e+12</td>\n",
       "      <td>1028</td>\n",
       "      <td>6</td>\n",
       "      <td>4</td>\n",
       "      <td>258.00</td>\n",
       "      <td>1</td>\n",
       "      <td>64.50</td>\n",
       "      <td>11</td>\n",
       "      <td>0.26</td>\n",
       "      <td>0.16</td>\n",
       "      <td>...</td>\n",
       "      <td>3.772761</td>\n",
       "      <td>3.487987</td>\n",
       "      <td>1.414214</td>\n",
       "      <td>T</td>\n",
       "      <td>T</td>\n",
       "      <td>T</td>\n",
       "      <td>9.055937</td>\n",
       "      <td>10.954451</td>\n",
       "      <td>T</td>\n",
       "      <td>T</td>\n",
       "    </tr>\n",
       "    <tr>\n",
       "      <th>2</th>\n",
       "      <td>9.955600e+12</td>\n",
       "      <td>1056</td>\n",
       "      <td>327</td>\n",
       "      <td>2</td>\n",
       "      <td>77.00</td>\n",
       "      <td>0</td>\n",
       "      <td>38.50</td>\n",
       "      <td>11</td>\n",
       "      <td>1.00</td>\n",
       "      <td>0.00</td>\n",
       "      <td>...</td>\n",
       "      <td>4.228293</td>\n",
       "      <td>4.605170</td>\n",
       "      <td>0.000000</td>\n",
       "      <td>F</td>\n",
       "      <td>F</td>\n",
       "      <td>T</td>\n",
       "      <td>0.000000</td>\n",
       "      <td>0.000000</td>\n",
       "      <td>F</td>\n",
       "      <td>F</td>\n",
       "    </tr>\n",
       "    <tr>\n",
       "      <th>3</th>\n",
       "      <td>9.955600e+12</td>\n",
       "      <td>1118</td>\n",
       "      <td>66</td>\n",
       "      <td>8</td>\n",
       "      <td>846.06</td>\n",
       "      <td>1</td>\n",
       "      <td>105.75</td>\n",
       "      <td>11</td>\n",
       "      <td>0.38</td>\n",
       "      <td>0.00</td>\n",
       "      <td>...</td>\n",
       "      <td>3.294354</td>\n",
       "      <td>3.147165</td>\n",
       "      <td>2.449490</td>\n",
       "      <td>F</td>\n",
       "      <td>T</td>\n",
       "      <td>T</td>\n",
       "      <td>10.244023</td>\n",
       "      <td>16.399085</td>\n",
       "      <td>T</td>\n",
       "      <td>T</td>\n",
       "    </tr>\n",
       "    <tr>\n",
       "      <th>4</th>\n",
       "      <td>9.955600e+12</td>\n",
       "      <td>1107</td>\n",
       "      <td>49</td>\n",
       "      <td>1</td>\n",
       "      <td>87.44</td>\n",
       "      <td>0</td>\n",
       "      <td>87.44</td>\n",
       "      <td>11</td>\n",
       "      <td>0.20</td>\n",
       "      <td>0.20</td>\n",
       "      <td>...</td>\n",
       "      <td>3.198673</td>\n",
       "      <td>3.350606</td>\n",
       "      <td>0.000000</td>\n",
       "      <td>F</td>\n",
       "      <td>F</td>\n",
       "      <td>T</td>\n",
       "      <td>9.350936</td>\n",
       "      <td>0.000000</td>\n",
       "      <td>F</td>\n",
       "      <td>T</td>\n",
       "    </tr>\n",
       "  </tbody>\n",
       "</table>\n",
       "<p>5 rows × 119 columns</p>\n",
       "</div>"
      ],
      "text/plain": [
       "          HHKEY  ZIP_CODE  REC  FRE     MON  CC_CARD    AVRG  PC_CALC20  \\\n",
       "0  9.955600e+12      1001  208    2  368.46        0  184.23         11   \n",
       "1  9.955600e+12      1028    6    4  258.00        1   64.50         11   \n",
       "2  9.955600e+12      1056  327    2   77.00        0   38.50         11   \n",
       "3  9.955600e+12      1118   66    8  846.06        1  105.75         11   \n",
       "4  9.955600e+12      1107   49    1   87.44        0   87.44         11   \n",
       "\n",
       "   PSWEATERS  PKNIT_TOPS            ...             \\\n",
       "0       0.18        0.00            ...              \n",
       "1       0.26        0.16            ...              \n",
       "2       1.00        0.00            ...              \n",
       "3       0.38        0.00            ...              \n",
       "4       0.20        0.20            ...              \n",
       "\n",
       "   ln lifetime ave time betw visits  ln product uniformity  sqrt responded  \\\n",
       "0                          4.709530               3.459781        0.000000   \n",
       "1                          3.772761               3.487987        1.414214   \n",
       "2                          4.228293               4.605170        0.000000   \n",
       "3                          3.294354               3.147165        2.449490   \n",
       "4                          3.198673               3.350606        0.000000   \n",
       "\n",
       "   flag returns  flag response rate  flag markdown  sqrt spending months 2 3  \\\n",
       "0             F                   F              T                  0.000000   \n",
       "1             T                   T              T                  9.055937   \n",
       "2             F                   F              T                  0.000000   \n",
       "3             F                   T              T                 10.244023   \n",
       "4             F                   F              T                  9.350936   \n",
       "\n",
       "   sqrt spending months 4 5 6  flag spending months 4 5 6  \\\n",
       "0                    0.000000                           F   \n",
       "1                   10.954451                           T   \n",
       "2                    0.000000                           F   \n",
       "3                   16.399085                           T   \n",
       "4                    0.000000                           F   \n",
       "\n",
       "   flag spending months 2 3  \n",
       "0                         F  \n",
       "1                         T  \n",
       "2                         F  \n",
       "3                         T  \n",
       "4                         T  \n",
       "\n",
       "[5 rows x 119 columns]"
      ]
     },
     "execution_count": 3,
     "metadata": {},
     "output_type": "execute_result"
    }
   ],
   "source": [
    "df.head()"
   ]
  },
  {
   "cell_type": "code",
   "execution_count": 4,
   "metadata": {},
   "outputs": [
    {
     "data": {
      "text/plain": [
       "(28799, 119)"
      ]
     },
     "execution_count": 4,
     "metadata": {},
     "output_type": "execute_result"
    }
   ],
   "source": [
    "df.shape"
   ]
  },
  {
   "cell_type": "markdown",
   "metadata": {},
   "source": [
    "In another notebook I ran a correlation test and decided that these would be the variables to use for any model because they were least correlated with one another."
   ]
  },
  {
   "cell_type": "code",
   "execution_count": 5,
   "metadata": {
    "collapsed": true
   },
   "outputs": [],
   "source": [
    "vars = ['CLUSTYPE', 'WEB', 'AXSPEND', 'AMSPEND','HHKEY',\n",
    "'ZIP_CODE',\n",
    "'REC',\n",
    "'FRE',\n",
    "'MON',\n",
    "'CC_CARD',\n",
    "'AVRG',\n",
    "'PC_CALC20',\n",
    "'PSWEATERS',\n",
    "'PKNIT_TOPS',\n",
    "'PKNIT_DRES',\n",
    "'PBLOUSES',\n",
    "'PJACKETS',\n",
    "'PCAR_PNTS',\n",
    "'PCAS_PNTS',\n",
    "'PSHIRTS',\n",
    "'PDRESSES',\n",
    "'PSUITS',\n",
    "'POUTERWEAR',\n",
    "'PJEWELRY',\n",
    "'PFASHION',\n",
    "'PLEGWEAR',\n",
    "'sqrt sweaters',\n",
    "'sqrt knit tops',\n",
    "'sqrt knit dresses',\n",
    "'sqrt blouses',\n",
    "'sqrt jackets',\n",
    "'sqrt career pants',\n",
    "'sqrt casual pants',\n",
    "'sqrt shirts',\n",
    "'sqrt dresses',\n",
    "'sqrt suits',\n",
    "'sqrt outerwear',\n",
    "'sqrt jewelry',\n",
    "'sqrt fashion',\n",
    "'sqrt legwear',\n",
    "'sqrt collectibles',\n",
    "'flag sweaters',\n",
    "'flag knit tops',\n",
    "'flag knit dresses',\n",
    "'flag blouses',\n",
    "'flag jackets',\n",
    "'flag career pants',\n",
    "'flag casual pants',\n",
    "'flag shirts',\n",
    "'flag dresses',\n",
    "'flag suits',\n",
    "'flag outerwear',\n",
    "'flag jewelry',\n",
    "'flag fashion',\n",
    "'flag legwear',\n",
    "'flag collectibles',\n",
    "'sqrt spending AM']"
   ]
  },
  {
   "cell_type": "code",
   "execution_count": 6,
   "metadata": {
    "collapsed": true
   },
   "outputs": [],
   "source": [
    "vars = ['CLUSTYPE', 'WEB', 'AXSPEND', 'AMSPEND',\n",
    "#         'HHKEY',\n",
    "'ZIP_CODE',\n",
    "'REC',\n",
    "'FRE',\n",
    "'MON',\n",
    "'CC_CARD',\n",
    "'AVRG',\n",
    "'PC_CALC20',\n",
    "'PSWEATERS',\n",
    "'PKNIT_TOPS',\n",
    "'PKNIT_DRES',\n",
    "'PBLOUSES',\n",
    "'PJACKETS',\n",
    "'PCAR_PNTS',\n",
    "'PCAS_PNTS',\n",
    "'PSHIRTS',\n",
    "'PDRESSES',\n",
    "'PSUITS',\n",
    "'POUTERWEAR',\n",
    "'PJEWELRY',\n",
    "'PFASHION',\n",
    "'PLEGWEAR']"
   ]
  },
  {
   "cell_type": "markdown",
   "metadata": {},
   "source": [
    "Making a list for calling our independent and dependent variables"
   ]
  },
  {
   "cell_type": "code",
   "execution_count": 7,
   "metadata": {
    "collapsed": true
   },
   "outputs": [],
   "source": [
    "y_cols = 'RESP'\n",
    "x_cols = vars\n",
    "# x_cols.remove(y_cols)"
   ]
  },
  {
   "cell_type": "code",
   "execution_count": 8,
   "metadata": {
    "collapsed": true
   },
   "outputs": [],
   "source": [
    "dfdtype = pd.DataFrame(df.dtypes)\n",
    "flag_cols = list(dfdtype[dfdtype.iloc[:,0] == 'object'].index)"
   ]
  },
  {
   "cell_type": "markdown",
   "metadata": {},
   "source": [
    "Replace string values with integer values for our model."
   ]
  },
  {
   "cell_type": "code",
   "execution_count": 9,
   "metadata": {},
   "outputs": [],
   "source": [
    "df = df.replace(['Y', 'N'], [1, 0])\n",
    "df = df.replace(['T', 'F'], [1, 0])"
   ]
  },
  {
   "cell_type": "markdown",
   "metadata": {},
   "source": [
    "Check the number percentage of positive repsonses in the data. We see the majority of the responses are negative. We will need to take this into account when making our model(s)."
   ]
  },
  {
   "cell_type": "code",
   "execution_count": 10,
   "metadata": {},
   "outputs": [
    {
     "data": {
      "text/plain": [
       "0    24037\n",
       "1     4762\n",
       "Name: RESP, dtype: int64"
      ]
     },
     "execution_count": 10,
     "metadata": {},
     "output_type": "execute_result"
    }
   ],
   "source": [
    "df['RESP'].value_counts()"
   ]
  },
  {
   "cell_type": "code",
   "execution_count": 11,
   "metadata": {},
   "outputs": [
    {
     "data": {
      "text/plain": [
       "0.19811124516370596"
      ]
     },
     "execution_count": 11,
     "metadata": {},
     "output_type": "execute_result"
    }
   ],
   "source": [
    "4762/24037"
   ]
  },
  {
   "cell_type": "code",
   "execution_count": 12,
   "metadata": {
    "collapsed": true
   },
   "outputs": [],
   "source": [
    "df.to_csv('clothing_store_encoded_flags.csv') #saving the data off so that we don't have to reconvert the variables"
   ]
  },
  {
   "cell_type": "markdown",
   "metadata": {},
   "source": [
    "Sub sampling the negative responses so that we make a balanced training dataset."
   ]
  },
  {
   "cell_type": "code",
   "execution_count": 13,
   "metadata": {},
   "outputs": [
    {
     "data": {
      "text/plain": [
       "1    4762\n",
       "0    4762\n",
       "Name: RESP, dtype: int64"
      ]
     },
     "execution_count": 13,
     "metadata": {},
     "output_type": "execute_result"
    }
   ],
   "source": [
    "zerodf = df[df[y_cols] == 0].sample(4762)\n",
    "onedf = df[df[y_cols] == 1]\n",
    "\n",
    "newdf = pd.concat([zerodf, onedf], axis=0)\n",
    "newdf[y_cols].value_counts()"
   ]
  },
  {
   "cell_type": "code",
   "execution_count": 14,
   "metadata": {},
   "outputs": [
    {
     "data": {
      "text/plain": [
       "0    24037\n",
       "1     4762\n",
       "Name: RESP, dtype: int64"
      ]
     },
     "execution_count": 14,
     "metadata": {},
     "output_type": "execute_result"
    }
   ],
   "source": [
    "df[y_cols].value_counts()"
   ]
  },
  {
   "cell_type": "code",
   "execution_count": 15,
   "metadata": {},
   "outputs": [
    {
     "data": {
      "text/plain": [
       "1    4762\n",
       "0    4762\n",
       "Name: RESP, dtype: int64"
      ]
     },
     "execution_count": 15,
     "metadata": {},
     "output_type": "execute_result"
    }
   ],
   "source": [
    "newdf[y_cols].value_counts()"
   ]
  },
  {
   "cell_type": "code",
   "execution_count": 16,
   "metadata": {
    "collapsed": true
   },
   "outputs": [],
   "source": [
    "from sklearn.ensemble import RandomForestClassifier\n",
    "from sklearn.model_selection import train_test_split\n",
    "from sklearn.metrics import accuracy_score\n",
    "from sklearn.linear_model import LogisticRegression\n",
    "from sklearn.svm import SVC\n",
    "from sklearn import neighbors\n",
    "newdf = newdf.dropna()"
   ]
  },
  {
   "cell_type": "code",
   "execution_count": 17,
   "metadata": {
    "collapsed": true
   },
   "outputs": [],
   "source": [
    "# Helper functions to calculate the performance of our models.\n",
    "import itertools\n",
    "import numpy as np\n",
    "import matplotlib.pyplot as plt\n",
    "import matplotlib.patches as mpatches\n",
    "from sklearn import svm, datasets\n",
    "from sklearn.model_selection import train_test_split\n",
    "from sklearn.metrics import confusion_matrix\n",
    "\n",
    "\n",
    "def plot_confusion_matrix(cm, classes,\n",
    "                          normalize=False,\n",
    "                          title='Confusion matrix',\n",
    "                          cmap=plt.cm.Blues):\n",
    "    \"\"\"\n",
    "    This function prints and plots the confusion matrix.\n",
    "    Normalization can be applied by setting `normalize=True`.\n",
    "    \"\"\"\n",
    "    np.set_printoptions(precision=2)\n",
    "    plt.figure()\n",
    "    plt.imshow(cm, interpolation='nearest', cmap=cmap)\n",
    "    plt.title(title)\n",
    "    plt.colorbar()\n",
    "    tick_marks = np.arange(len(classes))\n",
    "    plt.xticks(tick_marks, classes, rotation=45)\n",
    "    plt.yticks(tick_marks, classes)\n",
    "\n",
    "    if normalize:\n",
    "        cm = cm.astype('float') / cm.sum(axis=1)[:, np.newaxis]\n",
    "#         print(\"Normalized confusion matrix\")\n",
    "#     else:\n",
    "#         print('Confusion matrix, without normalization')\n",
    "\n",
    "#     print(cm)\n",
    "\n",
    "    thresh = cm.max() / 2.\n",
    "    for i, j in itertools.product(range(cm.shape[0]), range(cm.shape[1])):\n",
    "        plt.text(j, i, cm[i, j],\n",
    "                 horizontalalignment=\"center\",\n",
    "                 color=\"white\" if cm[i, j] > thresh else \"black\")\n",
    "\n",
    "    plt.tight_layout()\n",
    "    plt.ylabel('True label')\n",
    "    plt.xlabel('Predicted label')\n",
    "    plt.savefig(str(title.split('\\n')[0])+'.png')\n",
    "    plt.show()\n",
    "    \n",
    "def overall_error_rate(y_pred, y_test):\n",
    "    cnf_matrix = confusion_matrix(y_test, y_pred)\n",
    "    fn = cnf_matrix[1,0]\n",
    "    fp = cnf_matrix[0,1]\n",
    "    tn = cnf_matrix[0,0]\n",
    "    tp = cnf_matrix[1,1]\n",
    "    n = len(y_test)\n",
    "    return (fn+fp)/n\n",
    "\n",
    "def sensitivity(y_pred, y_test):\n",
    "    cnf_matrix = confusion_matrix(y_test, y_pred)\n",
    "    tap = pd.DataFrame(y_test).iloc[:,0].value_counts()[1]\n",
    "    tp = cnf_matrix[1,1]\n",
    "    return tp/tap\n",
    "\n",
    "def false_pos_rate(y_pred, y_test):\n",
    "    cnf_matrix = confusion_matrix(y_test, y_pred)\n",
    "    fp = cnf_matrix[0,1]\n",
    "    tan = pd.DataFrame(y_test).iloc[:,0].value_counts()[0]\n",
    "    return fp/tan\n",
    "\n",
    "def specificity(y_pred, y_test):\n",
    "    cnf_matrix = confusion_matrix(y_test, y_pred)\n",
    "    tn = cnf_matrix[0,0]\n",
    "    tan = pd.DataFrame(y_test).iloc[:,0].value_counts()[0]\n",
    "    return tn/tan\n",
    "\n",
    "def false_neg_rate(y_pred, y_test):\n",
    "    cnf_matrix = confusion_matrix(y_test, y_pred)\n",
    "    fn = cnf_matrix[1,0]\n",
    "    tap = pd.DataFrame(y_test).iloc[:,0].value_counts()[1]\n",
    "    return fn/tap\n",
    "\n",
    "def prop_true_pos(y_pred, y_test):\n",
    "    cnf_matrix = confusion_matrix(y_test, y_pred)\n",
    "    try:\n",
    "        tpp = pd.DataFrame(y_pred).iloc[:,0].value_counts()[1]\n",
    "    except:\n",
    "        return 0\n",
    "    tp = cnf_matrix[1,1]\n",
    "    return tp/tpp\n",
    "\n",
    "def prop_true_neg(y_pred, y_test):\n",
    "    cnf_matrix = confusion_matrix(y_test, y_pred)\n",
    "    try:\n",
    "        tn = cnf_matrix[0,0]\n",
    "        tpn = pd.DataFrame(y_pred).iloc[:,0].value_counts()[0]\n",
    "    except:\n",
    "        return 0\n",
    "    return tn/tpn\n",
    "\n",
    "def get_descriptive_data(y_pred, y_test):\n",
    "    print(\"Accuracy: %f%%\" %(round(accuracy_score(y_test, y_pred)*100,2)))\n",
    "    print(\"Overall Error Rate: %f%%\" %(round(overall_error_rate(y_pred, y_test)*100,2)))\n",
    "    print('False Positive Rate: %f%%' %(round(false_pos_rate(y_pred, y_test)*100,2)))\n",
    "    print('False Negative Rate: %f%%' %(round(false_neg_rate(y_pred, y_test)*100,2)))\n",
    "    print('Specificity: %f%%' %(round(specificity(y_pred, y_test)*100,2)))\n",
    "    print(\"Sensitivity: %f%%\" %(round(sensitivity(y_pred, y_test)*100,2)))\n",
    "    print('Proportion True Positive: %f%%' %(round(prop_true_pos(y_pred, y_test)*100,2)))\n",
    "    print('Proportion True Negative: %f%%' %(round(prop_true_neg(y_pred, y_test)*100,2)))"
   ]
  },
  {
   "cell_type": "markdown",
   "metadata": {},
   "source": [
    "# Classifiers"
   ]
  },
  {
   "cell_type": "code",
   "execution_count": 18,
   "metadata": {},
   "outputs": [
    {
     "name": "stdout",
     "output_type": "stream",
     "text": [
      "Accuracy: 66.870000%\n",
      "Overall Error Rate: 33.130000%\n",
      "False Positive Rate: 22.900000%\n",
      "False Negative Rate: 44.000000%\n",
      "Specificity: 77.100000%\n",
      "Sensitivity: 56.000000%\n",
      "Proportion True Positive: 69.740000%\n",
      "Proportion True Negative: 65.040000%\n"
     ]
    },
    {
     "data": {
      "image/png": "[encoded data removed]",
      "text/plain": [
       "<matplotlib.figure.Figure at 0x7fc277c875c0>"
      ]
     },
     "metadata": {},
     "output_type": "display_data"
    }
   ],
   "source": [
    "# Random Forrest\n",
    "X_train, X_test, y_train, y_test = train_test_split(newdf[x_cols].as_matrix(), \n",
    "                                                    newdf[y_cols].as_matrix(), \n",
    "                                                    test_size=0.33, \n",
    "                                                    random_state=1)\n",
    "rf = RandomForestClassifier(random_state=1, n_jobs=-1)\n",
    "\n",
    "rf.fit(X_train, y_train)\n",
    "y_pred = rf.predict(X_test)\n",
    "get_descriptive_data(y_pred, y_test)\n",
    "\n",
    "y_score = rf.predict_proba(X_test)[:, 1]\n",
    "rf_fpr, rf_tpr, _ = roc_curve(y_test, y_score)\n",
    "rf_roc_auc = auc(rf_fpr, rf_tpr)\n",
    "\n",
    "y_pred = pd.Series(y_pred).replace([0,1], ['N','Y'])\n",
    "y_test = pd.Series(y_test).replace([0,1], ['N','Y'])\n",
    "class_names = list(y_pred.value_counts().index)\n",
    "cnf_matrix = confusion_matrix(y_test, y_pred)\n",
    "plot_confusion_matrix(cnf_matrix, classes=class_names,\n",
    "                      title='Random Forest\\nConfusion matrix, without normalization')"
   ]
  },
  {
   "cell_type": "code",
   "execution_count": 33,
   "metadata": {},
   "outputs": [
    {
     "name": "stdout",
     "output_type": "stream",
     "text": [
      "Accuracy: 71.910000%\n",
      "Overall Error Rate: 28.090000%\n",
      "False Positive Rate: 22.020000%\n",
      "False Negative Rate: 34.780000%\n",
      "Specificity: 77.980000%\n",
      "Sensitivity: 65.220000%\n",
      "Proportion True Positive: 72.890000%\n",
      "Proportion True Negative: 71.180000%\n"
     ]
    },
    {
     "data": {
      "image/png": "[encoded data removed]",
      "text/plain": [
       "<matplotlib.figure.Figure at 0x7fc277c9f5c0>"
      ]
     },
     "metadata": {},
     "output_type": "display_data"
    }
   ],
   "source": [
    "# Logistic Regression\n",
    "X_train, X_test, y_train, y_test = train_test_split(newdf[x_cols], newdf[y_cols], test_size=0.33, random_state=42)\n",
    "lr = LogisticRegression(random_state=1)\n",
    "lr.fit(X_train, y_train)\n",
    "y_pred = lr.predict(X_test)\n",
    "get_descriptive_data(y_pred, y_test)\n",
    "\n",
    "y_score = lr.predict_proba(X_test)[:, 1]\n",
    "lr_fpr, lr_tpr, _ = roc_curve(y_test, y_score)\n",
    "lr_roc_auc = auc(lr_fpr, lr_tpr)\n",
    "\n",
    "y_pred = pd.Series(y_pred).replace([0,1], ['N','Y'])\n",
    "y_test = pd.Series(y_test).replace([0,1], ['N','Y'])\n",
    "class_names = list(y_pred.value_counts().index)\n",
    "cnf_matrix = confusion_matrix(y_test, y_pred)\n",
    "plot_confusion_matrix(cnf_matrix, classes=class_names,\n",
    "                      title='Logistic Regression\\nConfusion matrix, without normalization')"
   ]
  },
  {
   "cell_type": "code",
   "execution_count": 20,
   "metadata": {},
   "outputs": [
    {
     "name": "stdout",
     "output_type": "stream",
     "text": [
      "Accuracy: 71.910000%\n",
      "Overall Error Rate: 28.090000%\n",
      "False Positive Rate: 22.020000%\n",
      "False Negative Rate: 34.780000%\n",
      "Specificity: 77.980000%\n",
      "Sensitivity: 65.220000%\n",
      "Proportion True Positive: 72.890000%\n",
      "Proportion True Negative: 71.180000%\n"
     ]
    },
    {
     "data": {
      "image/png": "[encoded data removed]",
      "text/plain": [
       "<matplotlib.figure.Figure at 0x7fc27471d6a0>"
      ]
     },
     "metadata": {},
     "output_type": "display_data"
    }
   ],
   "source": [
    "# Support Vector Machine\n",
    "X_train, X_test, y_train, y_test = train_test_split(newdf[x_cols], newdf[y_cols], test_size=0.33, random_state=42)\n",
    "svm = SVC(random_state=1)\n",
    "svm.fit(X_train, y_train)\n",
    "y_pred_svm = svm.predict(X_test)\n",
    "\n",
    "y_score = svm.decision_function(X_test)\n",
    "svm_fpr, svm_tpr, _ = roc_curve(y_test, y_score)\n",
    "svm_roc_auc = auc(svm_fpr, svm_tpr)\n",
    "\n",
    "y_pred = pd.Series(y_pred).replace([0,1], ['N','Y'])\n",
    "y_test = pd.Series(y_test).replace([0,1], ['N','Y'])\n",
    "class_names = list(y_pred.value_counts().index)\n",
    "get_descriptive_data(y_pred, y_test)\n",
    "cnf_matrix = confusion_matrix(y_test, y_pred)\n",
    "plot_confusion_matrix(cnf_matrix, classes=class_names,\n",
    "                      title='Support Vector Machine\\nConfusion matrix, without normalization')"
   ]
  },
  {
   "cell_type": "code",
   "execution_count": 21,
   "metadata": {},
   "outputs": [
    {
     "name": "stdout",
     "output_type": "stream",
     "text": [
      "Accuracy: 65.980000%\n",
      "Overall Error Rate: 34.020000%\n",
      "False Positive Rate: 30.350000%\n",
      "False Negative Rate: 38.060000%\n",
      "Specificity: 69.650000%\n",
      "Sensitivity: 61.940000%\n",
      "Proportion True Positive: 64.950000%\n",
      "Proportion True Negative: 66.840000%\n"
     ]
    },
    {
     "data": {
      "image/png": "[encoded data removed]",
      "text/plain": [
       "<matplotlib.figure.Figure at 0x7fc274623b00>"
      ]
     },
     "metadata": {},
     "output_type": "display_data"
    }
   ],
   "source": [
    "# K-Nearest Neighbors\n",
    "X_train, X_test, y_train, y_test = train_test_split(newdf[x_cols], newdf[y_cols], test_size=0.33, random_state=42)\n",
    "knn = neighbors.KNeighborsClassifier(n_jobs=-1)\n",
    "knn.fit(X_train, y_train)\n",
    "y_pred = knn.predict(X_test)\n",
    "\n",
    "y_score = knn.predict_proba(X_test)[:, 1]\n",
    "knn_fpr, knn_tpr, _ = roc_curve(y_test, y_score)\n",
    "knn_roc_auc = auc(knn_fpr, knn_tpr)\n",
    "\n",
    "y_pred = pd.Series(y_pred).replace([0,1], ['N','Y'])\n",
    "y_test = pd.Series(y_test).replace([0,1], ['N','Y'])\n",
    "class_names = list(y_pred.value_counts().index)\n",
    "get_descriptive_data(y_pred, y_test)\n",
    "cnf_matrix = confusion_matrix(y_test, y_pred)\n",
    "plot_confusion_matrix(cnf_matrix, classes=class_names,\n",
    "                      title='K-Nearest Neighbors\\nConfusion matrix, without normalization')"
   ]
  },
  {
   "cell_type": "markdown",
   "metadata": {},
   "source": [
    "# ROC Curve"
   ]
  },
  {
   "cell_type": "code",
   "execution_count": 22,
   "metadata": {},
   "outputs": [
    {
     "data": {
      "image/png": "[encoded data removed]",
      "text/plain": [
       "<matplotlib.figure.Figure at 0x7fc277ca8e48>"
      ]
     },
     "metadata": {},
     "output_type": "display_data"
    }
   ],
   "source": [
    "plt.figure(1, figsize=(8,8))\n",
    "plt.plot([0, 1], [0, 1], 'k--')\n",
    "plt.plot(rf_fpr, rf_tpr,color='b', label='Random Forestz ROC curve (area = %0.2f)' % rf_roc_auc)\n",
    "plt.plot(lr_fpr, lr_tpr,color='r', label='Logistic Regression ROC curve (area = %0.2f)' % lr_roc_auc)\n",
    "plt.plot(svm_fpr, svm_tpr,color='k', label='Support Vector Machine ROC curve (area = %0.2f)' % svm_roc_auc)\n",
    "plt.plot(knn_fpr, knn_tpr,color='g', label='K-Nearest Neighbors ROC curve (area = %0.2f)' % knn_roc_auc)\n",
    "plt.xlabel('False positive rate')\n",
    "plt.ylabel('True positive rate')\n",
    "plt.title('ROC curve')\n",
    "plt.legend(loc='best')\n",
    "plt.savefig('roc_curve.png')\n",
    "plt.show()"
   ]
  },
  {
   "cell_type": "markdown",
   "metadata": {},
   "source": [
    "# K-Folds Testing"
   ]
  },
  {
   "cell_type": "code",
   "execution_count": 23,
   "metadata": {},
   "outputs": [
    {
     "name": "stderr",
     "output_type": "stream",
     "text": [
      "/home/mcamp/anaconda3/lib/python3.5/site-packages/sklearn/cross_validation.py:44: DeprecationWarning: This module was deprecated in version 0.18 in favor of the model_selection module into which all the refactored classes and functions are moved. Also note that the interface of the new CV iterators are different from that of this module. This module will be removed in 0.20.\n",
      "  \"This module will be removed in 0.20.\", DeprecationWarning)\n"
     ]
    }
   ],
   "source": [
    "from sklearn.cross_validation import cross_val_score, KFold, LeavePOut\n",
    "\n",
    "def KFold_test(X, y, folds, trained_model):\n",
    "    n_folds    = len(folds)\n",
    "    accuracies = []\n",
    "    n    = X.shape[0]\n",
    "    # Run K-folds\n",
    "    for k in folds:\n",
    "        cv     = KFold(n, n_folds=k, random_state=12, shuffle=True) if k > 0 else LeavePOut(n, p=abs(k))\n",
    "        scores = cross_val_score(trained_model, X, y, cv=cv)\n",
    "        accuracies.append(100 * scores.mean())\n",
    "        print(\"K = %d, accuracy: %0.2f%%\" % (k, accuracies[-1]))\n",
    "    return accuracies"
   ]
  },
  {
   "cell_type": "code",
   "execution_count": 24,
   "metadata": {},
   "outputs": [
    {
     "name": "stdout",
     "output_type": "stream",
     "text": [
      "K = 2, accuracy: 64.66%\n",
      "K = 5, accuracy: 65.04%\n",
      "K = 100, accuracy: 65.47%\n",
      "K = 200, accuracy: 65.48%\n",
      "K = 500, accuracy: 65.49%\n",
      "K = 750, accuracy: 65.46%\n",
      "K = 1000, accuracy: 65.45%\n"
     ]
    }
   ],
   "source": [
    "folds      = [2, 5, 100, 200, 500, 750, 1000]\n",
    "knn_accuracies = KFold_test(newdf[x_cols], newdf[y_cols], folds, knn)"
   ]
  },
  {
   "cell_type": "code",
   "execution_count": 25,
   "metadata": {},
   "outputs": [
    {
     "name": "stdout",
     "output_type": "stream",
     "text": [
      "K = 2, accuracy: 71.04%\n",
      "K = 5, accuracy: 71.33%\n",
      "K = 100, accuracy: 71.03%\n",
      "K = 200, accuracy: 71.06%\n",
      "K = 500, accuracy: 71.05%\n",
      "K = 750, accuracy: 71.06%\n",
      "K = 1000, accuracy: 71.24%\n"
     ]
    }
   ],
   "source": [
    "lr_accuracies = KFold_test(newdf[x_cols], newdf[y_cols], folds, lr)"
   ]
  },
  {
   "cell_type": "code",
   "execution_count": 26,
   "metadata": {},
   "outputs": [
    {
     "name": "stdout",
     "output_type": "stream",
     "text": [
      "K = 2, accuracy: 52.50%\n",
      "K = 5, accuracy: 52.50%\n",
      "K = 100, accuracy: 52.50%\n",
      "K = 200, accuracy: 52.51%\n",
      "K = 500, accuracy: 52.49%\n",
      "K = 750, accuracy: 52.54%\n",
      "K = 1000, accuracy: 52.57%\n"
     ]
    }
   ],
   "source": [
    "svm_accuracies = KFold_test(newdf[x_cols], newdf[y_cols], folds, svm)"
   ]
  },
  {
   "cell_type": "code",
   "execution_count": 27,
   "metadata": {},
   "outputs": [
    {
     "name": "stdout",
     "output_type": "stream",
     "text": [
      "K = 2, accuracy: 68.25%\n",
      "K = 5, accuracy: 67.87%\n",
      "K = 100, accuracy: 68.30%\n",
      "K = 200, accuracy: 67.30%\n",
      "K = 500, accuracy: 68.38%\n",
      "K = 750, accuracy: 68.35%\n",
      "K = 1000, accuracy: 67.49%\n"
     ]
    }
   ],
   "source": [
    "rf_accuracies = KFold_test(newdf[x_cols], newdf[y_cols], folds, rf)"
   ]
  },
  {
   "cell_type": "code",
   "execution_count": 28,
   "metadata": {},
   "outputs": [
    {
     "name": "stdout",
     "output_type": "stream",
     "text": [
      "Random Forest Accuracies:  [68.251279309106835, 67.866623766449038, 68.296990424076597, 67.298172757475101, 68.379084967320253, 68.352525252525268, 67.490277777777791]\n",
      "Linear Regression Accuracies:  [71.035776130842791, 71.3270422064831, 71.032558139534871, 71.058970099667775, 71.045751633986924, 71.061616161616172, 71.240277777777777]\n",
      "Support Vector Machine Accuracies:  [52.49924634733658, 52.499487505311606, 52.500273597811223, 52.509136212624583, 52.488888888888894, 52.537373737373741, 52.570833333333333]\n",
      "K-Nearest Neighbor Accuracies:  [64.662738804185622, 65.035385891530325, 65.472503419972654, 65.484219269102994, 65.486274509803906, 65.455555555555549, 65.445833333333326]\n"
     ]
    }
   ],
   "source": [
    "#To save having to re-run these later if I want the actual accuracies\n",
    "print('Random Forest Accuracies: ', rf_accuracies)\n",
    "print('Linear Regression Accuracies: ', lr_accuracies)\n",
    "print('Support Vector Machine Accuracies: ', svm_accuracies)\n",
    "print('K-Nearest Neighbor Accuracies: ', knn_accuracies)"
   ]
  },
  {
   "cell_type": "code",
   "execution_count": 29,
   "metadata": {},
   "outputs": [
    {
     "data": {
      "image/png": "[encoded data removed]",
      "text/plain": [
       "<matplotlib.figure.Figure at 0x7f735114a588>"
      ]
     },
     "metadata": {},
     "output_type": "display_data"
    }
   ],
   "source": [
    "n_folds = len(folds)\n",
    "plt.figure()\n",
    "plt.errorbar(range(1, n_folds + 1), rf_accuracies, yerr=[5] * n_folds, c='b') \n",
    "plt.errorbar(range(1, n_folds + 1), lr_accuracies, yerr=[5] * n_folds, c='r') \n",
    "plt.errorbar(range(1, n_folds + 1), svm_accuracies, yerr=[5] * n_folds, c='k')\n",
    "plt.errorbar(range(1, n_folds + 1), knn_accuracies, yerr=[5] * n_folds, c='g')# Use 5% for the error bars\n",
    "ax = plt.gca()\n",
    "plt.xticks(range(0, n_folds + 2), [''] + [str(k) for k in folds] + [''])\n",
    "plt.yticks(range(0, 110, 10))\n",
    "plt.title(\"K-fold Cross-validation\")\n",
    "plt.xlabel(\"Folds\")\n",
    "plt.ylabel(\"% Acc\")\n",
    "\n",
    "rf_patch = mpatches.Patch(color='b', label='Random Forest')\n",
    "lr_patch = mpatches.Patch(color='r', label='Logistic Regression')\n",
    "svm_patch = mpatches.Patch(color='k', label='Support Vector Machine')\n",
    "knn_patch = mpatches.Patch(color='g', label='K-Nearest Neighbors')\n",
    "plt.legend(handles=[rf_patch, lr_patch, svm_patch, knn_patch])\n",
    "plt.savefig('kfold_chart.png')\n",
    "# print(\"Saved the chart into \")\n",
    "plt.show()"
   ]
  },
  {
   "cell_type": "markdown",
   "metadata": {},
   "source": [
    "# Contributing Feature Analysis"
   ]
  },
  {
   "cell_type": "code",
   "execution_count": 24,
   "metadata": {},
   "outputs": [
    {
     "name": "stderr",
     "output_type": "stream",
     "text": [
      "100%|██████████| 100/100 [02:26<00:00,  1.47s/it]\n"
     ]
    }
   ],
   "source": [
    "from sklearn.ensemble import RandomForestRegressor\n",
    "import numpy as np\n",
    "from treeinterpreter import treeinterpreter as ti\n",
    "from sklearn.datasets import load_boston\n",
    "from tqdm import tqdm \n",
    "contrib_sum = np.zeros((25,2))\n",
    "\n",
    "for i in tqdm(range(100)):\n",
    "    # Random Forrest\n",
    "    X_train, X_test, y_train, y_test = train_test_split(newdf[x_cols].as_matrix(), \n",
    "                                                        newdf[y_cols].as_matrix(), \n",
    "                                                        test_size=2820, \n",
    "                                                        random_state=i)\n",
    "    rf = RandomForestClassifier(random_state=i, n_jobs=-1)\n",
    "\n",
    "    rf.fit(X_train, y_train)\n",
    "    y_pred = rf.predict(X_test)\n",
    "\n",
    "    prediction, bias, contributions = ti.predict(rf, X_test)\n",
    "    # contrib_sum = contributions[0]\n",
    "    for i in range(contributions.shape[0]):\n",
    "        contrib_sum += contributions[i]"
   ]
  },
  {
   "cell_type": "code",
   "execution_count": 25,
   "metadata": {},
   "outputs": [
    {
     "data": {
      "text/html": [
       "<div>\n",
       "<table border=\"1\" class=\"dataframe\">\n",
       "  <thead>\n",
       "    <tr style=\"text-align: right;\">\n",
       "      <th></th>\n",
       "      <th>Neg_Contributions</th>\n",
       "      <th>Pos_Contributions</th>\n",
       "    </tr>\n",
       "    <tr>\n",
       "      <th>Features</th>\n",
       "      <th></th>\n",
       "      <th></th>\n",
       "    </tr>\n",
       "  </thead>\n",
       "  <tbody>\n",
       "    <tr>\n",
       "      <th>REC</th>\n",
       "      <td>-1.757851</td>\n",
       "      <td>1.757851</td>\n",
       "    </tr>\n",
       "    <tr>\n",
       "      <th>ZIP_CODE</th>\n",
       "      <td>-1.002181</td>\n",
       "      <td>1.002181</td>\n",
       "    </tr>\n",
       "    <tr>\n",
       "      <th>CLUSTYPE</th>\n",
       "      <td>-0.747657</td>\n",
       "      <td>0.747657</td>\n",
       "    </tr>\n",
       "    <tr>\n",
       "      <th>CC_CARD</th>\n",
       "      <td>-0.202108</td>\n",
       "      <td>0.202108</td>\n",
       "    </tr>\n",
       "    <tr>\n",
       "      <th>PKNIT_TOPS</th>\n",
       "      <td>-0.165676</td>\n",
       "      <td>0.165676</td>\n",
       "    </tr>\n",
       "    <tr>\n",
       "      <th>AVRG</th>\n",
       "      <td>-0.118930</td>\n",
       "      <td>0.118930</td>\n",
       "    </tr>\n",
       "    <tr>\n",
       "      <th>PSUITS</th>\n",
       "      <td>-0.029336</td>\n",
       "      <td>0.029336</td>\n",
       "    </tr>\n",
       "    <tr>\n",
       "      <th>PC_CALC20</th>\n",
       "      <td>-0.022184</td>\n",
       "      <td>0.022184</td>\n",
       "    </tr>\n",
       "    <tr>\n",
       "      <th>PSHIRTS</th>\n",
       "      <td>-0.017036</td>\n",
       "      <td>0.017036</td>\n",
       "    </tr>\n",
       "    <tr>\n",
       "      <th>PFASHION</th>\n",
       "      <td>0.181813</td>\n",
       "      <td>-0.181813</td>\n",
       "    </tr>\n",
       "    <tr>\n",
       "      <th>PSWEATERS</th>\n",
       "      <td>0.188960</td>\n",
       "      <td>-0.188960</td>\n",
       "    </tr>\n",
       "    <tr>\n",
       "      <th>POUTERWEAR</th>\n",
       "      <td>0.213577</td>\n",
       "      <td>-0.213577</td>\n",
       "    </tr>\n",
       "    <tr>\n",
       "      <th>PDRESSES</th>\n",
       "      <td>0.221903</td>\n",
       "      <td>-0.221903</td>\n",
       "    </tr>\n",
       "    <tr>\n",
       "      <th>PBLOUSES</th>\n",
       "      <td>0.246858</td>\n",
       "      <td>-0.246858</td>\n",
       "    </tr>\n",
       "    <tr>\n",
       "      <th>AMSPEND</th>\n",
       "      <td>0.347536</td>\n",
       "      <td>-0.347536</td>\n",
       "    </tr>\n",
       "    <tr>\n",
       "      <th>PCAR_PNTS</th>\n",
       "      <td>0.386446</td>\n",
       "      <td>-0.386446</td>\n",
       "    </tr>\n",
       "    <tr>\n",
       "      <th>PJEWELRY</th>\n",
       "      <td>0.476489</td>\n",
       "      <td>-0.476489</td>\n",
       "    </tr>\n",
       "    <tr>\n",
       "      <th>AXSPEND</th>\n",
       "      <td>0.522713</td>\n",
       "      <td>-0.522713</td>\n",
       "    </tr>\n",
       "    <tr>\n",
       "      <th>PLEGWEAR</th>\n",
       "      <td>0.611640</td>\n",
       "      <td>-0.611640</td>\n",
       "    </tr>\n",
       "    <tr>\n",
       "      <th>PKNIT_DRES</th>\n",
       "      <td>0.658479</td>\n",
       "      <td>-0.658479</td>\n",
       "    </tr>\n",
       "    <tr>\n",
       "      <th>PCAS_PNTS</th>\n",
       "      <td>0.670944</td>\n",
       "      <td>-0.670944</td>\n",
       "    </tr>\n",
       "    <tr>\n",
       "      <th>PJACKETS</th>\n",
       "      <td>0.682996</td>\n",
       "      <td>-0.682996</td>\n",
       "    </tr>\n",
       "    <tr>\n",
       "      <th>WEB</th>\n",
       "      <td>1.220179</td>\n",
       "      <td>-1.220179</td>\n",
       "    </tr>\n",
       "    <tr>\n",
       "      <th>MON</th>\n",
       "      <td>1.456028</td>\n",
       "      <td>-1.456028</td>\n",
       "    </tr>\n",
       "    <tr>\n",
       "      <th>FRE</th>\n",
       "      <td>1.792401</td>\n",
       "      <td>-1.792401</td>\n",
       "    </tr>\n",
       "  </tbody>\n",
       "</table>\n",
       "</div>"
      ],
      "text/plain": [
       "            Neg_Contributions  Pos_Contributions\n",
       "Features                                        \n",
       "REC                 -1.757851           1.757851\n",
       "ZIP_CODE            -1.002181           1.002181\n",
       "CLUSTYPE            -0.747657           0.747657\n",
       "CC_CARD             -0.202108           0.202108\n",
       "PKNIT_TOPS          -0.165676           0.165676\n",
       "AVRG                -0.118930           0.118930\n",
       "PSUITS              -0.029336           0.029336\n",
       "PC_CALC20           -0.022184           0.022184\n",
       "PSHIRTS             -0.017036           0.017036\n",
       "PFASHION             0.181813          -0.181813\n",
       "PSWEATERS            0.188960          -0.188960\n",
       "POUTERWEAR           0.213577          -0.213577\n",
       "PDRESSES             0.221903          -0.221903\n",
       "PBLOUSES             0.246858          -0.246858\n",
       "AMSPEND              0.347536          -0.347536\n",
       "PCAR_PNTS            0.386446          -0.386446\n",
       "PJEWELRY             0.476489          -0.476489\n",
       "AXSPEND              0.522713          -0.522713\n",
       "PLEGWEAR             0.611640          -0.611640\n",
       "PKNIT_DRES           0.658479          -0.658479\n",
       "PCAS_PNTS            0.670944          -0.670944\n",
       "PJACKETS             0.682996          -0.682996\n",
       "WEB                  1.220179          -1.220179\n",
       "MON                  1.456028          -1.456028\n",
       "FRE                  1.792401          -1.792401"
      ]
     },
     "execution_count": 25,
     "metadata": {},
     "output_type": "execute_result"
    }
   ],
   "source": [
    "contrib_sum = contrib_sum/100\n",
    "contrib = pd.DataFrame(contrib_sum)\n",
    "contrib.columns = ['Neg_Contributions', 'Pos_Contributions']\n",
    "contrib['Features'] = newdf[x_cols].columns\n",
    "contrib = contrib.set_index(['Features'])\n",
    "contrib.sort_values('Pos_Contributions', ascending=[False])\n",
    "#TODO: Make Pie Chart of the pos contributions"
   ]
  },
  {
   "cell_type": "code",
   "execution_count": 26,
   "metadata": {
    "collapsed": true
   },
   "outputs": [],
   "source": [
    "pos_feat = contrib[contrib['Pos_Contributions'] >= 0]['Pos_Contributions']\n",
    "neg_feat = contrib[contrib['Neg_Contributions'] >= 0]['Neg_Contributions']\n",
    "total_neg = neg_feat.sum()\n",
    "total_pos = pos_feat.sum()\n"
   ]
  },
  {
   "cell_type": "code",
   "execution_count": 27,
   "metadata": {},
   "outputs": [
    {
     "data": {
      "text/plain": [
       "{'AVRG': 0.11893031120656512,\n",
       " 'CC_CARD': 0.20210787353760329,\n",
       " 'CLUSTYPE': 0.7476573649418633,\n",
       " 'PC_CALC20': 0.022184160109205014,\n",
       " 'PKNIT_TOPS': 0.1656755248320696,\n",
       " 'PSHIRTS': 0.017035537657457359,\n",
       " 'PSUITS': 0.029335997274420135,\n",
       " 'REC': 1.7578509197438614,\n",
       " 'ZIP_CODE': 1.0021806367087716}"
      ]
     },
     "execution_count": 27,
     "metadata": {},
     "output_type": "execute_result"
    }
   ],
   "source": [
    "pos_feat.to_dict()"
   ]
  },
  {
   "cell_type": "code",
   "execution_count": 28,
   "metadata": {},
   "outputs": [
    {
     "name": "stderr",
     "output_type": "stream",
     "text": [
      "/home/mcamp/anaconda3/lib/python3.5/site-packages/matplotlib/axes/_axes.py:545: UserWarning: No labelled objects found. Use label='...' kwarg on individual plots.\n",
      "  warnings.warn(\"No labelled objects found. \"\n"
     ]
    },
    {
     "data": {
      "image/png": "[encoded data removed]",
      "text/plain": [
       "<matplotlib.figure.Figure at 0x7fc27473bcc0>"
      ]
     },
     "metadata": {},
     "output_type": "display_data"
    }
   ],
   "source": [
    "n_groups = pos_feat.shape[0]\n",
    "\n",
    "fig, ax = plt.subplots(figsize=(8,6))\n",
    "\n",
    "index = np.arange(pos_feat.shape[0])\n",
    "bar_width = .7\n",
    "\n",
    "opacity = 1\n",
    "error_config = {'ecolor': '0.3'}\n",
    "\n",
    "rects1 = plt.bar(index, pos_feat, bar_width,\n",
    "                 alpha=opacity,\n",
    "                 color='b')\n",
    "\n",
    "\n",
    "plt.xlabel('Variables')\n",
    "plt.title('Variable Contribution to Positive Response')\n",
    "plt.xticks(index, (pos_feat.index),rotation=45)\n",
    "plt.legend()\n",
    "\n",
    "plt.tight_layout()\n",
    "plt.show()"
   ]
  },
  {
   "cell_type": "code",
   "execution_count": 29,
   "metadata": {},
   "outputs": [
    {
     "name": "stderr",
     "output_type": "stream",
     "text": [
      "/home/mcamp/anaconda3/lib/python3.5/site-packages/matplotlib/axes/_axes.py:545: UserWarning: No labelled objects found. Use label='...' kwarg on individual plots.\n",
      "  warnings.warn(\"No labelled objects found. \"\n"
     ]
    },
    {
     "data": {
      "image/png": "[encoded data removed]",
      "text/plain": [
       "<matplotlib.figure.Figure at 0x7fc27473bfd0>"
      ]
     },
     "metadata": {},
     "output_type": "display_data"
    }
   ],
   "source": [
    "n_groups = neg_feat.shape[0]\n",
    "\n",
    "fig, ax = plt.subplots(figsize=(8,6))\n",
    "\n",
    "index = np.arange(neg_feat.shape[0])\n",
    "bar_width = .7\n",
    "\n",
    "opacity = 1\n",
    "error_config = {'ecolor': '0.3'}\n",
    "\n",
    "rects1 = plt.bar(index, neg_feat, bar_width,\n",
    "                 alpha=opacity,\n",
    "                 color='r')\n",
    "\n",
    "\n",
    "plt.xlabel('Variables')\n",
    "plt.ylabel('Cumulative Contributions')\n",
    "plt.title('Variable Contribution to Negative Response')\n",
    "plt.xticks(index, (neg_feat.index),rotation=45)\n",
    "plt.legend()\n",
    "\n",
    "plt.tight_layout()\n",
    "plt.show()"
   ]
  },
  {
   "cell_type": "code",
   "execution_count": 30,
   "metadata": {},
   "outputs": [
    {
     "name": "stderr",
     "output_type": "stream",
     "text": [
      "/home/mcamp/anaconda3/lib/python3.5/site-packages/matplotlib/axes/_axes.py:545: UserWarning: No labelled objects found. Use label='...' kwarg on individual plots.\n",
      "  warnings.warn(\"No labelled objects found. \"\n"
     ]
    },
    {
     "data": {
      "image/png": "[encoded data removed]",
      "text/plain": [
       "<matplotlib.figure.Figure at 0x7fc2750e9ac8>"
      ]
     },
     "metadata": {},
     "output_type": "display_data"
    }
   ],
   "source": [
    "contrib['color'] = contrib['Pos_Contributions'] > 0\n",
    "n_groups = contrib['Pos_Contributions'].shape[0]\n",
    "\n",
    "fig, ax = plt.subplots(figsize=(4,9))\n",
    "\n",
    "index = np.arange(contrib['Pos_Contributions'].shape[0])\n",
    "bar_width = .7\n",
    "\n",
    "opacity = 1\n",
    "error_config = {'ecolor': '0.3'}\n",
    "\n",
    "rects1 = plt.barh(index, contrib['Pos_Contributions'], bar_width,\n",
    "                 alpha=opacity,\n",
    "                 color=contrib.color.map({True: 'k', False: 'r'}))\n",
    "\n",
    "\n",
    "plt.ylabel('Variables')\n",
    "plt.title('Variable Contribution to Response')\n",
    "plt.yticks(index, (contrib.index),rotation=45)\n",
    "plt.legend()\n",
    "colors = contrib.color.map({True: 'k', False: 'r'})\n",
    "for ytick, color in zip(ax.get_yticklabels(), colors):\n",
    "    ytick.set_color(color)\n",
    "plt.tight_layout()\n",
    "plt.axvline(x=0, linewidth=.5, color='k', linestyle='-')\n",
    "plt.savefig('var_contrib.png')\n",
    "plt.show()"
   ]
  },
  {
   "cell_type": "code",
   "execution_count": 34,
   "metadata": {},
   "outputs": [
    {
     "name": "stderr",
     "output_type": "stream",
     "text": [
      "/home/mcamp/anaconda3/lib/python3.5/site-packages/matplotlib/axes/_axes.py:545: UserWarning: No labelled objects found. Use label='...' kwarg on individual plots.\n",
      "  warnings.warn(\"No labelled objects found. \"\n"
     ]
    },
    {
     "data": {
      "image/png": "[encoded data removed]",
      "text/plain": [
       "<matplotlib.figure.Figure at 0x7fc274fa90b8>"
      ]
     },
     "metadata": {},
     "output_type": "display_data"
    }
   ],
   "source": [
    "LR_contrib = pd.DataFrame({'Pos_Contributions':lr.coef_[0], \n",
    "                           'Features': X_train.columns}).set_index('Features')\n",
    "\n",
    "LR_contrib['color'] = LR_contrib['Pos_Contributions'] > 0\n",
    "n_groups = LR_contrib['Pos_Contributions'].shape[0]\n",
    "\n",
    "fig, ax = plt.subplots(figsize=(4,9))\n",
    "\n",
    "index = np.arange(LR_contrib['Pos_Contributions'].shape[0])\n",
    "bar_width = .7\n",
    "\n",
    "opacity = 1\n",
    "error_config = {'ecolor': '0.3'}\n",
    "\n",
    "rects1 = plt.barh(index, LR_contrib['Pos_Contributions'], bar_width,\n",
    "                 alpha=opacity,\n",
    "                 color=LR_contrib.color.map({True: 'k', False: 'r'}))\n",
    "\n",
    "\n",
    "plt.ylabel('Variables')\n",
    "plt.title('Variable Contribution to Response')\n",
    "plt.yticks(index, (LR_contrib.index),rotation=45)\n",
    "plt.legend()\n",
    "colors = LR_contrib.color.map({True: 'k', False: 'r'})\n",
    "for ytick, color in zip(ax.get_yticklabels(), colors):\n",
    "    ytick.set_color(color)\n",
    "plt.tight_layout()\n",
    "plt.axvline(x=0, linewidth=.5, color='k', linestyle='-')\n",
    "plt.savefig('lr_var_contrib.png')\n",
    "plt.show()"
   ]
  },
  {
   "cell_type": "markdown",
   "metadata": {
    "collapsed": true
   },
   "source": [
    "# Calculate Savings"
   ]
  },
  {
   "cell_type": "code",
   "execution_count": 32,
   "metadata": {
    "collapsed": true
   },
   "outputs": [],
   "source": [
    "flyer = .35\n",
    "population = 1958748\n",
    "total_cost = population * flyer"
   ]
  },
  {
   "cell_type": "code",
   "execution_count": 40,
   "metadata": {
    "collapsed": true
   },
   "outputs": [],
   "source": [
    "avg_spend = df[df['RESP'] == 1]['AVRG'].mean()\n",
    "pos_resp = df[df['RESP'] == 1].shape[0]\n",
    "neg_resp = df[df['RESP'] == 0].shape[0]\n",
    "\n",
    "#Calculate the profit from our model\n",
    "TNeg = 0 # Predicted No Response Cost nothing\n",
    "FNeg = -362 * flyer # False neg response cost err * cost of the flyer\n",
    "FPos = 528 * avg_spend # False pos repsonse  = err * opportunity cost (avg spend)\n",
    "TPos = 806 * avg_spend # Positive reposne * avg spend\n",
    "model_profit = TPos + TNeg + FNeg + FPos\n",
    "\n",
    "no_model_profit = pos_resp * avg_spend + (neg_resp * flyer) * -1\n",
    "\n",
    "\n",
    "cost_delta = (model_profit - no_model_profit) / no_model_profit\n",
    "no_model_acc = pos_resp/df.shape[0]\n",
    "rf_model_acc = accuracy_score(y_test, y_pred)\n",
    "delta_acc = (no_model_acc - rf_model_acc) * -1\n",
    "total_rev = no_model_acc * population * avg_spend"
   ]
  },
  {
   "cell_type": "code",
   "execution_count": 41,
   "metadata": {},
   "outputs": [
    {
     "data": {
      "text/plain": [
       "-340307.4731247351"
      ]
     },
     "execution_count": 41,
     "metadata": {},
     "output_type": "execute_result"
    }
   ],
   "source": [
    "model_profit - no_model_profit"
   ]
  },
  {
   "cell_type": "code",
   "execution_count": 42,
   "metadata": {},
   "outputs": [
    {
     "data": {
      "text/plain": [
       "475835.3899999967"
      ]
     },
     "execution_count": 42,
     "metadata": {},
     "output_type": "execute_result"
    }
   ],
   "source": [
    "no_model_profit"
   ]
  },
  {
   "cell_type": "code",
   "execution_count": 43,
   "metadata": {},
   "outputs": [
    {
     "data": {
      "text/plain": [
       "135527.91687526158"
      ]
     },
     "execution_count": 43,
     "metadata": {},
     "output_type": "execute_result"
    }
   ],
   "source": [
    "model_profit #Our"
   ]
  },
  {
   "cell_type": "code",
   "execution_count": 44,
   "metadata": {},
   "outputs": [
    {
     "ename": "NameError",
     "evalue": "name 'no_model_rev' is not defined",
     "output_type": "error",
     "traceback": [
      "\u001b[0;31m---------------------------------------------------------------------------\u001b[0m",
      "\u001b[0;31mNameError\u001b[0m                                 Traceback (most recent call last)",
      "\u001b[0;32m<ipython-input-44-646dc55bde4a>\u001b[0m in \u001b[0;36m<module>\u001b[0;34m()\u001b[0m\n\u001b[0;32m----> 1\u001b[0;31m \u001b[0mno_model_rev\u001b[0m\u001b[0;34m\u001b[0m\u001b[0m\n\u001b[0m",
      "\u001b[0;31mNameError\u001b[0m: name 'no_model_rev' is not defined"
     ]
    }
   ],
   "source": [
    "no_model_rev "
   ]
  },
  {
   "cell_type": "code",
   "execution_count": 45,
   "metadata": {},
   "outputs": [
    {
     "data": {
      "text/plain": [
       "685561.7999999999"
      ]
     },
     "execution_count": 45,
     "metadata": {},
     "output_type": "execute_result"
    }
   ],
   "source": [
    "total_cost"
   ]
  }
 ],
 "metadata": {
  "anaconda-cloud": {},
  "kernelspec": {
   "display_name": "Python [conda root]",
   "language": "python",
   "name": "conda-root-py"
  },
  "language_info": {
   "codemirror_mode": {
    "name": "ipython",
    "version": 3
   },
   "file_extension": ".py",
   "mimetype": "text/x-python",
   "name": "python",
   "nbconvert_exporter": "python",
   "pygments_lexer": "ipython3",
   "version": "3.5.2"
  }
 },
 "nbformat": 4,
 "nbformat_minor": 1
}
